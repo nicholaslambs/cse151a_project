{
 "cells": [
  {
   "cell_type": "code",
   "execution_count": 1,
   "metadata": {},
   "outputs": [
    {
     "name": "stdout",
     "output_type": "stream",
     "text": [
      "Defaulting to user installation because normal site-packages is not writeable\r\n",
      "Requirement already satisfied: tqdm in /home/mqmegatz/.local/lib/python3.9/site-packages (4.66.2)\r\n"
     ]
    }
   ],
   "source": [
    "!pip install tqdm"
   ]
  },
  {
   "cell_type": "code",
   "execution_count": 2,
   "metadata": {},
   "outputs": [],
   "source": [
    "import os\n",
    "import argparse\n",
    "import sys\n",
    "\n",
    "import torch\n",
    "\n",
    "import rlcard\n",
    "\n",
    "from rlcard.agents import DQNAgent, RandomAgent\n",
    "from rlcard.utils import (\n",
    "    get_device,\n",
    "    set_seed,\n",
    "    tournament,\n",
    "    reorganize,\n",
    "    Logger,\n",
    "    plot_curve,\n",
    ")\n",
    "\n",
    "import numpy as np\n",
    "from tqdm import tqdm"
   ]
  },
  {
   "cell_type": "code",
   "execution_count": 3,
   "metadata": {},
   "outputs": [
    {
     "name": "stdout",
     "output_type": "stream",
     "text": [
      "Using GPU: NVIDIA GeForce GTX 1080 Ti\n"
     ]
    }
   ],
   "source": [
    "# Check if CUDA is available\n",
    "if torch.cuda.is_available():\n",
    "    device = torch.device(\"cuda\")\n",
    "    print(\"Using GPU:\", torch.cuda.get_device_name(0))\n",
    "else:\n",
    "    device = torch.device(\"cpu\")\n",
    "    print(\"Using CPU\")"
   ]
  },
  {
   "cell_type": "code",
   "execution_count": 4,
   "metadata": {},
   "outputs": [],
   "source": [
    "def block():\n",
    "    sys.stdout = open(os.devnull, 'w')\n",
    "    \n",
    "def unblock():\n",
    "    sys.stdout = sys.__stdout__\n",
    "    \n",
    "# block()\n",
    "# print(\"HI\")\n",
    "# unblock()\n",
    "    "
   ]
  },
  {
   "cell_type": "code",
   "execution_count": 5,
   "metadata": {},
   "outputs": [],
   "source": [
    "# Initialize the Uno environment\n",
    "env = rlcard.make('uno')"
   ]
  },
  {
   "cell_type": "code",
   "execution_count": 6,
   "metadata": {},
   "outputs": [],
   "source": [
    "# The paths for saving the logs and learning curves\n",
    "log_dir = './experiments/uno_dqn_result/'"
   ]
  },
  {
   "cell_type": "code",
   "execution_count": 7,
   "metadata": {},
   "outputs": [],
   "source": [
    "agent = DQNAgent(\n",
    "                 num_actions=env.num_actions,\n",
    "                 state_shape=env.state_shape[0],\n",
    "                 mlp_layers=[128,128], #changed to 128\n",
    "                 replay_memory_size=5000,\n",
    "                 update_target_estimator_every=100,\n",
    "                 epsilon_decay_steps=10000,\n",
    "                 learning_rate=0.001,\n",
    "                 batch_size=32,\n",
    "                 device=device,\n",
    "                 save_path=log_dir,\n",
    "                 )"
   ]
  },
  {
   "cell_type": "code",
   "execution_count": 17,
   "metadata": {},
   "outputs": [],
   "source": [
    "# Set the number of players\n",
    "num_players = 2\n",
    "\n",
    "# Set the players in the environment\n",
    "env.set_agents([agent] + [RandomAgent(env.num_actions) for _ in range(num_players - 1)])\n",
    "\n",
    "# Reset the environment\n",
    "state = env.reset()"
   ]
  },
  {
   "cell_type": "markdown",
   "metadata": {},
   "source": [
    "## Training the Agent\n",
    "To train the agent, you will need to create a training loop. During each iteration of the loop, the agent makes a decision, the environment is updated, and the agent learns from the result."
   ]
  },
  {
   "cell_type": "code",
   "execution_count": 18,
   "metadata": {},
   "outputs": [],
   "source": [
    "# Reward function for static moves on action cards, playing and drawing cards\n",
    "def adjust_rewards(trajectories, payoffs):\n",
    "    adjusted_trajectories = []\n",
    "    for traj in trajectories:\n",
    "        adjusted_traj = []\n",
    "        for state, action, reward, next_state, done in traj:\n",
    "            if action == 60:  # Draw a card\n",
    "                reward -= 1  # Penalty for drawing a card\n",
    "\n",
    "            elif action >= 0 and action <= 9:  # Red number cards\n",
    "                reward += 1\n",
    "            elif action >= 10 and action <= 12:  # Red action cards\n",
    "                reward += 3\n",
    "            elif action == 13:  # Red wild card\n",
    "                reward += 6\n",
    "            elif action == 14:  # Red wild and draw 4 card\n",
    "                reward += 10\n",
    "\n",
    "            elif action >= 15 and action <= 24:  # Green number cards\n",
    "                reward += 1\n",
    "            elif action >= 25 and action <= 27:  # Green action cards\n",
    "                reward += 3\n",
    "            elif action == 28:  # Green wild card\n",
    "                reward += 6\n",
    "            elif action == 29:  # Green wild and draw 4 card\n",
    "                reward += 10\n",
    "\n",
    "            elif action >= 30 and action <= 39:  # Blue number cards\n",
    "                reward += 1\n",
    "            elif action >= 40 and action <= 42:  # Blue action cards\n",
    "                reward += 3\n",
    "            elif action == 43:  # Blue wild card\n",
    "                reward += 6\n",
    "            elif action == 44:  # Blue wild and draw 4 card\n",
    "                reward += 10\n",
    "\n",
    "            elif action >= 45 and action <= 54:  # Yellow number cards\n",
    "                reward += 1\n",
    "            elif action >= 55 and action <= 57:  # Yellow action cards\n",
    "                reward += 3\n",
    "            elif action == 58:  # Yellow wild card\n",
    "                reward += 6\n",
    "            elif action == 59:  # Yellow wild and draw 4 card\n",
    "                reward += 10\n",
    "                \n",
    "            adjusted_traj.append((state, action, reward, next_state, done))\n",
    "        adjusted_trajectories.append(adjusted_traj)\n",
    "    return adjusted_trajectories"
   ]
  },
  {
   "cell_type": "code",
   "execution_count": 26,
   "metadata": {},
   "outputs": [],
   "source": [
    "def adjust_rewards(trajectories, payoffs):\n",
    "    adjusted_trajectories = []\n",
    "    for traj in trajectories:\n",
    "        adjusted_traj = []\n",
    "        for state, action, reward, next_state, done in traj:\n",
    "            # Actual game state details\n",
    "            raw_obs = state['raw_obs']\n",
    "            \n",
    "            # Retrieve the number of cards in player's hand\n",
    "            num_cards_player = len(raw_obs['hand'])\n",
    "            \n",
    "            # Provide the number of cards for each player with the current player being index 0\n",
    "            num_cards_opponent = raw_obs['num_cards'][1] if raw_obs['current_player'] == 0 else raw_obs['num_cards'][0]\n",
    "            \n",
    "            # A larger reward if the agent has fewer cards\n",
    "            winning_factor = (7 - num_cards_player) / 7\n",
    "\n",
    "            if action == 60:  # Draw a card\n",
    "                reward -= max(1, 3 - num_cards_player / 7)\n",
    "\n",
    "            # Adjust rewards for action cards based on the opponent's hand size\n",
    "            action_card_reward_multiplier = max(1, (7 - num_cards_opponent) / 7)\n",
    "\n",
    "            if action in range(10, 15) or action in range(25, 30) or action in range(40, 45) or action in range(55, 60):\n",
    "                reward += 2 * action_card_reward_multiplier * winning_factor\n",
    "\n",
    "            if action in range(0, 10) or action in range(15, 25) or action in range(30, 40) or action in range(45, 55):\n",
    "                reward += 1 + (3 - num_cards_player / 7) * winning_factor\n",
    "                \n",
    "            if num_cards_player <=2:\n",
    "                reward +=5\n",
    "\n",
    "            adjusted_traj.append((state, action, reward, next_state, done))\n",
    "        adjusted_trajectories.append(adjusted_traj)\n",
    "    return adjusted_trajectories"
   ]
  },
  {
   "cell_type": "markdown",
   "metadata": {},
   "source": [
    "# Building out the simulation\n",
    "\n",
    "Previously, the code would run an entire/complete simulation. However, this restricts the ability to learn from moves within the simulation."
   ]
  },
  {
   "cell_type": "code",
   "execution_count": 27,
   "metadata": {},
   "outputs": [
    {
     "name": "stderr",
     "output_type": "stream",
     "text": [
      "100%|██████████| 50000/50000 [1:28:04<00:00,  9.46it/s]  \n"
     ]
    }
   ],
   "source": [
    "episode_num = 50000  # Number of episodes \n",
    "\n",
    "evaluate_every = 1000 # Evaluate the agent every X episodes\n",
    "evaluate_num = 100  # Number of games played in evaluation\n",
    "\n",
    "with Logger(log_dir) as logger:\n",
    "    for episode in tqdm(range(episode_num)):  # Number of episodes\n",
    "\n",
    "        trajectories, payoffs = env.run(is_training=True)\n",
    "\n",
    "        # Assuming 'payoffs' are the game outcomes for each player\n",
    "        for i, payoff in enumerate(payoffs):\n",
    "            if payoff > 0:  # Assuming a positive payoff means winning\n",
    "                payoffs[i] = 100\n",
    "            else:\n",
    "                payoffs[i] = -25\n",
    "\n",
    "        trajectories = reorganize(trajectories, payoffs)\n",
    "\n",
    "        # After reorganizing the trajectories, adjust the rewards\n",
    "        trajectories = adjust_rewards(trajectories, payoffs)\n",
    "        # print(trajectories[0])\n",
    "\n",
    "        for ts in trajectories[0]:\n",
    "            block()\n",
    "            agent.feed(ts)\n",
    "            unblock()\n",
    "        \n",
    "        if episode % evaluate_every == 0:\n",
    "                logger.log_performance(\n",
    "                    episode,\n",
    "                    tournament(\n",
    "                        env,\n",
    "                        evaluate_num,\n",
    "                    )[0]\n",
    "                )\n",
    "                \n",
    "\n",
    "    # Get the paths\n",
    "    csv_path, fig_path = logger.csv_path, logger.fig_path"
   ]
  },
  {
   "cell_type": "markdown",
   "metadata": {},
   "source": [
    "## Evaluating the Agent\n",
    "After training, evaluate your agent's performance. You can use RLCard's tournament function to play the game multiple times and see how well your agent performs:"
   ]
  },
  {
   "cell_type": "code",
   "execution_count": 28,
   "metadata": {},
   "outputs": [
    {
     "data": {
      "image/png": "[encoded data removed]",
      "text/plain": [
       "<Figure size 432x288 with 1 Axes>"
      ]
     },
     "metadata": {
      "needs_background": "light"
     },
     "output_type": "display_data"
    }
   ],
   "source": [
    "# Plot the learning curve\n",
    "plot_curve(csv_path, fig_path, \"dqn\")\n",
    "\n",
    "# Save model\n",
    "save_path = os.path.join(log_dir, 'model50k.pth')\n",
    "torch.save(agent, save_path)\n",
    "print('Model saved in', save_path)\n"
   ]
  },
  {
   "cell_type": "code",
   "execution_count": null,
   "metadata": {},
   "outputs": [],
   "source": []
  }
 ],
 "metadata": {
  "kernelspec": {
   "display_name": "Python 3 (ipykernel)",
   "language": "python",
   "name": "python3"
  },
  "language_info": {
   "codemirror_mode": {
    "name": "ipython",
    "version": 3
   },
   "file_extension": ".py",
   "mimetype": "text/x-python",
   "name": "python",
   "nbconvert_exporter": "python",
   "pygments_lexer": "ipython3",
   "version": "3.9.5"
  }
 },
 "nbformat": 4,
 "nbformat_minor": 2
}
