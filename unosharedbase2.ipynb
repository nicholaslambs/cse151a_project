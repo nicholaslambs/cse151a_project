{
  "nbformat": 4,
  "nbformat_minor": 0,
  "metadata": {
    "colab": {
      "provenance": [],
      "collapsed_sections": [
        "O4G_lYmmW1OS"
      ]
    },
    "kernelspec": {
      "name": "python3",
      "display_name": "Python 3"
    },
    "language_info": {
      "name": "python"
    }
  },
  "cells": [
    {
      "cell_type": "markdown",
      "source": [
        "# Imports"
      ],
      "metadata": {
        "id": "O4G_lYmmW1OS"
      }
    },
    {
      "cell_type": "code",
      "execution_count": null,
      "metadata": {
        "id": "KWQGb_ao-uKK"
      },
      "outputs": [],
      "source": [
        "from abc import ABC, abstractproperty, abstractmethod\n",
        "from typing import List, Tuple\n",
        "\n",
        "import random\n",
        "\n",
        "import numpy as np"
      ]
    },
    {
      "cell_type": "markdown",
      "source": [
        "# Hyperparameters"
      ],
      "metadata": {
        "id": "TtCVTU3lpyay"
      }
    },
    {
      "cell_type": "code",
      "source": [
        "GOOD_CARD_REWARD = 1\n",
        "DRAW_CARD_REWARD = -1\n",
        "\n",
        "WIN_GAME_REWARD = 100\n",
        "LOSE_GAME_REWARD = -100\n",
        "\n",
        "HIDDEN_LAYER_SIZE = 64"
      ],
      "metadata": {
        "id": "_X5nvdeXqFQD"
      },
      "execution_count": null,
      "outputs": []
    },
    {
      "cell_type": "markdown",
      "source": [
        "# UnoGame"
      ],
      "metadata": {
        "id": "Gti9mx17W6Px"
      }
    },
    {
      "cell_type": "code",
      "source": [
        "class UnoGameMaster():\n",
        "  def __init__(self):\n",
        "    self._deck: List[Tuple[int, int]] = []\n",
        "\n",
        "    self._discard: List[Tuple[int, int]] = []\n",
        "    self._top = None\n",
        "\n",
        "    self._agents = []\n",
        "    self._index = 0 #index of which agents turn it is\n",
        "    self._dir = 1 #direction of play\n",
        "    self._turn = 1\n",
        "\n",
        "    self._penalty = 1\n",
        "\n",
        "    self._winner = None\n",
        "\n",
        "\n",
        "  def state(self):\n",
        "    print(f\"deck:\\n{self._deck}\\nsize: {len(self._deck)}\\n\")\n",
        "    print(f\"discard:\\n{self._discard}\\nsize: {len(self._discard)}\\n\")\n",
        "    print(f\"top:\\n{self._top}\\n\")\n",
        "    print(f\"agents:\\n{[agent.get_name() for agent in self._agents]}\\n\")\n",
        "    print(f\"turn:\\n{self._turn}\\n\")\n",
        "    print(f\"penalty:\\n{self._penalty}\\n\")\n",
        "\n",
        "\n",
        "  def setup(self, agents) -> bool:\n",
        "    \"\"\"\n",
        "    reset and shuffle the deck, deal cards, and start the discard pile.\n",
        "\n",
        "    Parameters:\n",
        "    - List[UnoAgent]: agents in the game\n",
        "\n",
        "    Returns:\n",
        "    - True\n",
        "\n",
        "    \"\"\"\n",
        "    self._deck = []\n",
        "    for color in range(0, 4):\n",
        "      self._deck.append((color, 0))\n",
        "      for value in range(1, 13):\n",
        "        self._deck.append((color, value))\n",
        "        self._deck.append((color, value))\n",
        "    random.shuffle(self._deck)\n",
        "\n",
        "    self._discard = []\n",
        "    self._top = None\n",
        "\n",
        "    for agent in agents:\n",
        "      agent.clear_hand()\n",
        "    self._agents = agents\n",
        "    self._index = 0\n",
        "    self._dir = 1\n",
        "    self._turn = 1\n",
        "\n",
        "    self._penalty = 1\n",
        "\n",
        "    self._winner = None\n",
        "\n",
        "    #deal cards\n",
        "    for i in range(7):\n",
        "      for agent in self._agents:\n",
        "        agent.add_card(self.get_card_from_deck())\n",
        "\n",
        "    start_discard = self.get_card_from_deck()\n",
        "    self.add_to_discard(start_discard)\n",
        "    self.perform_card_action(start_discard)\n",
        "\n",
        "\n",
        "  def get_top(self) -> Tuple[int, int]:\n",
        "    return self._top\n",
        "\n",
        "\n",
        "  def get_penalty(self) -> int:\n",
        "    return self._penalty\n",
        "\n",
        "\n",
        "  def get_turn_agent(self):\n",
        "    self._index = self._index % len(self._agents)\n",
        "    return self._agents[self._index]\n",
        "\n",
        "\n",
        "  def get_card_from_deck(self) -> Tuple[int, int]:\n",
        "    \"\"\"\n",
        "    pops the top card of the deck and returns it, adding in discard pile if empty\n",
        "\n",
        "    Returns:\n",
        "    - Tuple[int, int]: card\n",
        "    \"\"\"\n",
        "    if (len(self._deck) < 1):\n",
        "      self._deck = self._discard[:-1]\n",
        "      random.shuffle(self._deck)\n",
        "      self._discard = [self._top]\n",
        "\n",
        "    return self._deck.pop()\n",
        "\n",
        "\n",
        "  def add_to_discard(self, card: Tuple[int, int]) -> bool:\n",
        "    \"\"\"\n",
        "    puts card in discard pile and makes it the top card.\n",
        "\n",
        "    Parameters:\n",
        "    - Tuple[int, int]\n",
        "\n",
        "    Returns:\n",
        "    - True\n",
        "    \"\"\"\n",
        "    self._discard.append(card)\n",
        "    self._top = card\n",
        "    return True\n",
        "\n",
        "\n",
        "  def add_to_deck(self, card: Tuple[int, int]) -> bool:\n",
        "    \"\"\"\n",
        "    puts card at the bottom of the deck.\n",
        "\n",
        "    Parameters:\n",
        "    - Tuple[int, int]\n",
        "\n",
        "    Returns:\n",
        "    - True\n",
        "    \"\"\"\n",
        "    self._deck.insert(0, card)\n",
        "    return True\n",
        "\n",
        "\n",
        "  def is_playable_card(self, card: Tuple[int, int]) -> bool:\n",
        "    \"\"\"\n",
        "    whether a card is playable.\n",
        "\n",
        "    Parameters:\n",
        "    - Tuple[int, int]: card to play\n",
        "\n",
        "    Return:\n",
        "    - bool: true if playable\n",
        "    \"\"\"\n",
        "    if (self._top[1] == card[1] or (self._top[0] == card[0] and self._penalty == 1)):\n",
        "      return True\n",
        "    return False\n",
        "\n",
        "\n",
        "  def is_drawing_move(self, move: Tuple[int, int]) -> bool:\n",
        "    \"\"\"\n",
        "    checks if this move is (-1, -1) for drawing cards\n",
        "\n",
        "    Parameters:\n",
        "    - Tuple[int, int]: move\n",
        "\n",
        "    Return:\n",
        "    - bool: true if (-1, -1)\n",
        "    \"\"\"\n",
        "    if (move == (-1, -1)):\n",
        "      return True\n",
        "    return False\n",
        "\n",
        "\n",
        "  def perform_card_action(self, card: Tuple[int, int]) -> bool:\n",
        "    \"\"\"\n",
        "    checks if a card is an action card and then modifies the game state accordingly\n",
        "\n",
        "    Parameters:\n",
        "    - Tuple[int, int]: card\n",
        "\n",
        "    Returns:\n",
        "    - bool: received an action card\n",
        "    \"\"\"\n",
        "    #skip\n",
        "    if (card[1] == 10):\n",
        "      self._index += self._dir\n",
        "\n",
        "      #print(f\"!!! skip card played\") #debug\n",
        "      return True\n",
        "\n",
        "    #plus2\n",
        "    elif (card[1] == 11):\n",
        "      if (self._penalty == 1):\n",
        "        self._penalty = 2\n",
        "      else:\n",
        "        self._penalty += 2\n",
        "\n",
        "      #print(f\"!!! plus2 card played\") #debug\n",
        "      return True\n",
        "\n",
        "    #reverse\n",
        "    elif (card[1] == 12):\n",
        "      self._dir = -(self._dir)\n",
        "\n",
        "      #print(f\"!!! reverse card played\") #debug\n",
        "      return True\n",
        "\n",
        "    return False\n",
        "\n",
        "\n",
        "  def query_turn(self) -> bool:\n",
        "    \"\"\"\n",
        "    query current agent for a move, then try to apply it.\n",
        "    this function also gives the agent its reward after making a move.\n",
        "\n",
        "    Return:\n",
        "    - bool: true if agent successfully makes a legal move\n",
        "    \"\"\"\n",
        "    agent = self.get_turn_agent()\n",
        "    move = agent.move()\n",
        "\n",
        "    #play a card\n",
        "    if (self.is_playable_card(move)):\n",
        "      #lose\n",
        "      #play a card not in hand\n",
        "      if (agent.remove_card(move) is False):\n",
        "        print(f\"ILLEGAL MOVE {move}\")\n",
        "        agent.add_reward(LOSE_GAME_REWARD)\n",
        "\n",
        "      #successfully play a card\n",
        "      self.add_to_discard(move)\n",
        "\n",
        "      #win\n",
        "      if (agent.empty_hand()):\n",
        "        self._winner = self._index\n",
        "        agent.reward(WIN_GAME_REWARD)\n",
        "\n",
        "      #action card\n",
        "      self.perform_card_action(move)\n",
        "\n",
        "      self._index += self._dir #change whose turn it is next\n",
        "      self._turn += 1 #total turn count increment\n",
        "      agent.reward(GOOD_CARD_REWARD)\n",
        "      return True\n",
        "\n",
        "    #draw cards\n",
        "    elif (self.is_drawing_move(move)):\n",
        "      for i in range(self._penalty):\n",
        "\n",
        "        new_card = self.get_card_from_deck()\n",
        "        agent.add_card(new_card)\n",
        "\n",
        "      self._penalty = 1\n",
        "\n",
        "      self._index += self._dir\n",
        "      self._turn += 1\n",
        "      return True\n",
        "\n",
        "    #lose\n",
        "    agent.reward(LOSE_GAME_REWARD)\n",
        "    return False\n",
        "\n",
        "\n",
        "  def run_simulation(self, max_moves: int):\n",
        "    \"\"\"\n",
        "    plays out the game according to agent's moves.\n",
        "\n",
        "    Parameters:\n",
        "    - int: limits number of moves to simulate\n",
        "\n",
        "    Returns:\n",
        "    - None\n",
        "    \"\"\"\n",
        "    while (self._turn <= max_moves and self._winner is None):\n",
        "      successful_turn = self.query_turn()"
      ],
      "metadata": {
        "id": "6iQT3NqDKKQX"
      },
      "execution_count": null,
      "outputs": []
    },
    {
      "cell_type": "markdown",
      "source": [
        "# Agent Interface"
      ],
      "metadata": {
        "id": "rIzQ_F7XXBVM"
      }
    },
    {
      "cell_type": "code",
      "source": [
        "class UnoAgent(ABC):\n",
        "\n",
        "  @abstractmethod\n",
        "  def move(self) -> Tuple[int, int]:\n",
        "    \"\"\"\n",
        "    which move to make\n",
        "\n",
        "    Returns:\n",
        "    - Tuple[int, int]: card to play, or (-1, -1) to draw\n",
        "    \"\"\"\n",
        "    pass\n",
        "\n",
        "  @abstractmethod\n",
        "  def reward(self, value: int) -> int:\n",
        "    \"\"\"\n",
        "    how much reward to get\n",
        "\n",
        "    Parameter:\n",
        "    - int: value of reward given to this agent\n",
        "\n",
        "    Returns:\n",
        "    - int:\n",
        "    \"\"\"\n",
        "    pass\n",
        "\n",
        "\n",
        "  def get_name(self):\n",
        "    return self._name\n",
        "\n",
        "\n",
        "  def get_hand(self) -> List[Tuple[int, int]]:\n",
        "    \"\"\"\n",
        "    Returns:\n",
        "    - list[tuple[int, int]]: list of current hand cards\n",
        "    \"\"\"\n",
        "    return self._hand\n",
        "\n",
        "\n",
        "  def get_hand_count(self) -> int:\n",
        "    \"\"\"\n",
        "    Returns:\n",
        "    - int: number of cards in hand\n",
        "    \"\"\"\n",
        "    return len(self._hand)\n",
        "\n",
        "\n",
        "  def add_card(self, card: Tuple[int, int]) -> bool:\n",
        "    \"\"\"\n",
        "    adds a card to the hand\n",
        "\n",
        "    Parameters:\n",
        "    - Tuple[int, int]: card\n",
        "\n",
        "    Returns:\n",
        "    - bool: success\n",
        "    \"\"\"\n",
        "    self._hand.append(card)\n",
        "    return True\n",
        "\n",
        "\n",
        "  def remove_card(self, card: Tuple[int, int]) -> bool:\n",
        "    \"\"\"\n",
        "    removes a card from the hand\n",
        "\n",
        "    Parameters:\n",
        "    - int: the index of the card in the current hand to remove\n",
        "\n",
        "    Returns:\n",
        "    - bool: success\n",
        "    \"\"\"\n",
        "    try:\n",
        "      self._hand.remove(card)\n",
        "      return True\n",
        "    except ValueError:\n",
        "      return False\n",
        "\n",
        "\n",
        "  def empty_hand(self) -> bool:\n",
        "    \"\"\"\n",
        "    checks for no cards in hand\n",
        "\n",
        "    Returns:\n",
        "    - bool: no cards in hand\n",
        "    \"\"\"\n",
        "    if (len(self._hand) < 1):\n",
        "      return True\n",
        "    return False\n",
        "\n",
        "\n",
        "  def clear_hand(self) -> bool:\n",
        "    \"\"\"\n",
        "    removes all cards from hand\n",
        "\n",
        "    Returns:\n",
        "    - True\n",
        "    \"\"\"\n",
        "    self._hand = []\n",
        "    return True\n",
        "\n",
        "\n"
      ],
      "metadata": {
        "id": "vokzJt-y-ycM"
      },
      "execution_count": null,
      "outputs": []
    },
    {
      "cell_type": "markdown",
      "source": [
        "# Basic Agent"
      ],
      "metadata": {
        "id": "NT0g0q7EuH2K"
      }
    },
    {
      "cell_type": "code",
      "source": [
        "class BasicAgent(UnoAgent):\n",
        "  def __init__(self, name: str, game: UnoGameMaster):\n",
        "    self._hand: List[Tuple[int, int]] = []\n",
        "    self._name = name\n",
        "    self._game = game\n",
        "\n",
        "  def move(self) -> Tuple[int, int]:\n",
        "    \"\"\"\n",
        "    picks the first playable card\n",
        "\n",
        "    Returns:\n",
        "    - Tuple[int, int]: card\n",
        "    \"\"\"\n",
        "    for card in self._hand:\n",
        "      if (self._game.is_playable_card(card)):\n",
        "        return card\n",
        "    return (-1, -1)\n",
        "\n",
        "\n",
        "  def reward(self, value) -> int:\n",
        "    return 0\n"
      ],
      "metadata": {
        "id": "ipUg4zPQAV_E"
      },
      "execution_count": null,
      "outputs": []
    },
    {
      "cell_type": "markdown",
      "source": [
        "# Encoding and Decoding"
      ],
      "metadata": {
        "id": "WBP5E0LTise_"
      }
    },
    {
      "cell_type": "markdown",
      "source": [
        "Encoding the state of the game, given the game and the agent.\n",
        "\n",
        "* 52 neurons (1 per unique card)\n",
        "* 17 neurons for the top card (4 for color and 13 for number)\n",
        "* 3 for penalty (number of stacked +2 cards)\n",
        "\n",
        "Total: 72 neurons"
      ],
      "metadata": {
        "id": "LI13iQ52hxxK"
      }
    },
    {
      "cell_type": "code",
      "source": [
        "def encode_state(agent, game) -> np.ndarray:\n",
        "  \"\"\"\n",
        "  encodes the current game state into a column vector\n",
        "\n",
        "  Parameters:\n",
        "  - UnoGameMaster: the game to encode\n",
        "\n",
        "  Returns:\n",
        "  - np.ndarray: column vector\n",
        "  \"\"\"\n",
        "\n",
        "  #hand\n",
        "  encoded_hand = np.zeros((4, 13))\n",
        "\n",
        "  for card in agent.get_hand():\n",
        "    color, number = card\n",
        "    encoded_hand[color, number] += 1\n",
        "  encoded_hand = encoded_hand.flatten()\n",
        "\n",
        "  #game state\n",
        "  encoded_top_card = np.zeros(17)\n",
        "\n",
        "  color, number = game.get_top()\n",
        "\n",
        "  encoded_top_card[color] = 1\n",
        "  encoded_top_card[(color + 1) + number] = 1\n",
        "\n",
        "  #penalty (maximum of 3 stacked +2 cards)\n",
        "  encoded_penalty = np.zeros(3)\n",
        "  penalty = game.get_penalty()\n",
        "\n",
        "  if (penalty > 6):\n",
        "    encoded_penalty[2] = 1\n",
        "  elif (penalty > 1):\n",
        "    encoded_penalty[int((penalty / 2) - 1)] = 1\n",
        "\n",
        "  #put these vectors together\n",
        "  out = np.concatenate((encoded_hand, encoded_top_card, encoded_penalty), axis=0)\n",
        "  out = out.reshape(-1, 1)\n",
        "\n",
        "  #print(encoded_hand) #debug\n",
        "  #print(encoded_top_card) #debug\n",
        "  #print(encoded_penalty) #debug\n",
        "\n",
        "  return out\n"
      ],
      "metadata": {
        "id": "b7o7-nkzgv4c"
      },
      "execution_count": null,
      "outputs": []
    },
    {
      "cell_type": "markdown",
      "source": [
        "Decode the output of a decision.\n",
        "\n",
        "* 17 neurons for the card to play (4 for color and 13 for number)\n",
        "* 1 neuron if drawing a card\n",
        "\n",
        "Total: 18 neurons"
      ],
      "metadata": {
        "id": "jRcGV4KtvlaM"
      }
    },
    {
      "cell_type": "code",
      "source": [
        "def decode_decision(decision_vector):\n",
        "  draw_decision = (decision_vector[17] > 0.5).any()\n",
        "\n",
        "  if (draw_decision):\n",
        "    return (-1, -1)\n",
        "\n",
        "  color_decision = np.argmax(decision_vector[:4])\n",
        "\n",
        "  number_decision = np.argmax(decision_vector[4:17])\n",
        "\n",
        "  return (color_decision, number_decision)"
      ],
      "metadata": {
        "id": "r-C_-yx1v1Dq"
      },
      "execution_count": null,
      "outputs": []
    },
    {
      "cell_type": "markdown",
      "source": [
        "Helper functions for changing the weights of neural net"
      ],
      "metadata": {
        "id": "T3rmoqariRmz"
      }
    },
    {
      "cell_type": "code",
      "source": [
        "def ReLU(Z):\n",
        "  #x if x > 0\n",
        "  return np.maximum(Z, 0)\n",
        "\n",
        "def sigmoid(Z):\n",
        "  A = (1 / (1 + np.exp(-Z)))\n",
        "  return A\n",
        "\n",
        "def ReLU_deriv(Z):\n",
        "  return Z > 0\n",
        "\n",
        "def sigmoid_deriv(Z):\n",
        "  A = sigmoid(Z)\n",
        "  return (A * (1 - A))"
      ],
      "metadata": {
        "id": "OWXJ29ghZhb-"
      },
      "execution_count": null,
      "outputs": []
    },
    {
      "cell_type": "markdown",
      "source": [
        "# RLAgent"
      ],
      "metadata": {
        "id": "U5GK2mr8FkRX"
      }
    },
    {
      "cell_type": "code",
      "source": [
        "class RLAgent(UnoAgent):\n",
        "  def __init__(self, name: str, game: UnoGameMaster):\n",
        "    self._hand: List[Tuple[int, int]] = []\n",
        "    self._name = name\n",
        "    self._game = game\n",
        "\n",
        "    #weight matrices\n",
        "    self._w1 = np.random.randn(HIDDEN_LAYER_SIZE, 72)\n",
        "    self._b1 = np.zeros((HIDDEN_LAYER_SIZE, 1))\n",
        "\n",
        "    self._w2 = np.random.randn(18, HIDDEN_LAYER_SIZE)\n",
        "    self._b2 = np.zeros((18, 1))\n",
        "\n",
        "    #sequence of moves representing entire game episode\n",
        "    self._trajectory = []\n",
        "\n",
        "  def forward_prop(self, X):\n",
        "\n",
        "    #input to hidden layer\n",
        "    Z1 = (self._w1 @ X) + self._b1\n",
        "    A1 = ReLU(Z1)\n",
        "\n",
        "    #hidden layer to output\n",
        "    Z2 = (self._w2 @ A1) + self._b2\n",
        "    A2 = sigmoid(Z2)\n",
        "\n",
        "    return A2\n",
        "\n",
        "\n",
        "  def move(self) -> Tuple[int, int]:\n",
        "    current_state = encode_state(self, self._game)\n",
        "    forward_propagate = self.forward_prop(current_state)\n",
        "    decision = decode_decision(forward_propagate)\n",
        "\n",
        "    return decision\n",
        "\n",
        "\n",
        "  def add_reward(self, state, move, reward) -> int:\n",
        "    self._trajectory.append((state, move, reward))\n",
        "\n",
        "    return reward"
      ],
      "metadata": {
        "id": "y6SIE4IjFk42"
      },
      "execution_count": null,
      "outputs": []
    },
    {
      "cell_type": "markdown",
      "source": [
        "# Simulations\n",
        "\n"
      ],
      "metadata": {
        "id": "bEKj84Xocuki"
      }
    },
    {
      "cell_type": "code",
      "source": [
        "TestGame = UnoGameMaster()\n",
        "\n",
        "TestAgent0 = BasicAgent(\"basic0\", TestGame)\n",
        "TestAgent1 = BasicAgent(\"basic1\", TestGame)\n",
        "TestAgent2 = BasicAgent(\"basic2\", TestGame)"
      ],
      "metadata": {
        "id": "MV9Cw0GTAuCL"
      },
      "execution_count": null,
      "outputs": []
    },
    {
      "cell_type": "code",
      "source": [
        "win_counter = [0, 0, 0]\n",
        "for i in range(1000):\n",
        "  TestGame.setup([TestAgent0, TestAgent1, TestAgent2])\n",
        "  TestGame.run_simulation(200)\n",
        "\n",
        "  if (TestGame._winner is not None):\n",
        "    win_counter[TestGame._winner] += 1\n",
        "\n",
        "print(win_counter)\n",
        "print(sum(win_counter))"
      ],
      "metadata": {
        "colab": {
          "base_uri": "https://localhost:8080/"
        },
        "id": "2uOhPh1cGwc_",
        "outputId": "41e22d3e-5814-4eab-9ce8-4a010e2fc4ca"
      },
      "execution_count": null,
      "outputs": [
        {
          "output_type": "stream",
          "name": "stdout",
          "text": [
            "[346, 315, 334]\n",
            "995\n"
          ]
        }
      ]
    },
    {
      "cell_type": "code",
      "source": [
        "#random.seed(3)\n",
        "#TestGame.setup([TestAgent0, TestAgent1, TestAgent2])\n",
        "\n",
        "#print(TestAgent0.get_hand())\n",
        "#print(TestAgent1.get_hand())\n",
        "#print(TestAgent2.get_hand())"
      ],
      "metadata": {
        "id": "kprjYcuPGtju"
      },
      "execution_count": null,
      "outputs": []
    },
    {
      "cell_type": "markdown",
      "source": [
        "Trying out forward propagation"
      ],
      "metadata": {
        "id": "19AbhxvRS2O-"
      }
    },
    {
      "cell_type": "code",
      "source": [
        "TestRL = RLAgent(\"RLAgent\", TestGame)\n",
        "\n",
        "TestGame.setup([TestAgent0, TestAgent1, TestRL])\n",
        "#TestGame._penalty = 99\n",
        "#print(TestGame.state())\n",
        "#print(TestRL.get_hand())\n",
        "\n",
        "print(TestRL.get_hand())\n",
        "print(TestRL.move())\n",
        "print()\n",
        "\n",
        "try:\n",
        "  TestGame.query_turn()\n",
        "  TestGame.query_turn()\n",
        "  TestGame.query_turn()\n",
        "except ValueError as e:\n",
        "  print(f\"Error: {e}\")\n",
        "\n",
        "print(TestGame.state())"
      ],
      "metadata": {
        "colab": {
          "base_uri": "https://localhost:8080/"
        },
        "id": "970wyiQkKwYT",
        "outputId": "5dd7752c-0113-4d61-ef31-f10bb419ffbc"
      },
      "execution_count": null,
      "outputs": [
        {
          "output_type": "stream",
          "name": "stdout",
          "text": [
            "[(2, 4), (0, 2), (0, 0), (3, 8), (3, 9), (2, 10), (0, 1)]\n",
            "(-1, -1)\n",
            "\n",
            "deck:\n",
            "[(2, 10), (3, 11), (3, 6), (0, 11), (1, 12), (3, 1), (1, 6), (0, 8), (2, 8), (0, 2), (2, 3), (3, 10), (3, 8), (2, 12), (2, 9), (2, 11), (1, 7), (3, 4), (2, 7), (2, 5), (2, 5), (3, 3), (3, 2), (2, 1), (2, 7), (2, 2), (0, 7), (0, 10), (0, 4), (1, 4), (2, 6), (3, 6), (3, 2), (3, 0), (2, 2), (3, 12), (0, 12), (3, 12), (0, 3), (1, 8), (1, 1), (1, 10), (3, 1), (2, 12), (0, 6), (0, 9), (0, 5), (2, 4), (1, 5), (0, 11), (3, 5), (2, 1), (2, 3), (3, 3), (1, 2), (1, 9), (1, 8), (1, 10), (2, 9), (1, 3), (2, 6), (0, 10), (3, 7), (3, 7), (0, 1), (1, 3), (3, 11), (3, 4), (3, 9), (1, 9), (0, 8), (0, 7), (0, 4), (3, 5), (0, 3), (1, 11), (0, 9)]\n",
            "size: 77\n",
            "\n",
            "discard:\n",
            "[(1, 7), (1, 12), (1, 1)]\n",
            "size: 3\n",
            "\n",
            "top:\n",
            "(1, 1)\n",
            "\n",
            "agents:\n",
            "['basic0', 'basic1', 'RLAgent']\n",
            "\n",
            "turn:\n",
            "4\n",
            "\n",
            "penalty:\n",
            "1\n",
            "\n",
            "None\n"
          ]
        }
      ]
    },
    {
      "cell_type": "code",
      "source": [],
      "metadata": {
        "id": "hlfLzp3Lumro"
      },
      "execution_count": null,
      "outputs": []
    }
  ]
}